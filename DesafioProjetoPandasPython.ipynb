{
  "nbformat": 4,
  "nbformat_minor": 0,
  "metadata": {
    "colab": {
      "provenance": [],
      "include_colab_link": true
    },
    "kernelspec": {
      "name": "python3",
      "display_name": "Python 3"
    },
    "language_info": {
      "name": "python"
    }
  },
  "cells": [
    {
      "cell_type": "markdown",
      "metadata": {
        "id": "view-in-github",
        "colab_type": "text"
      },
      "source": [
        "<a href=\"https://colab.research.google.com/github/VanessaBMizuno/Desafio-github-primeiro-repositorio/blob/main/DesafioProjetoPandasPython.ipynb\" target=\"_parent\"><img src=\"https://colab.research.google.com/assets/colab-badge.svg\" alt=\"Open In Colab\"/></a>"
      ]
    },
    {
      "cell_type": "code",
      "execution_count": 38,
      "metadata": {
        "id": "FpwQbB52QbKm"
      },
      "outputs": [],
      "source": [
        "#Importando biliotecas\n",
        "import pandas as pd\n",
        "import numpy as np\n",
        "import matplotlib.pyplot as plt\n",
        "\n"
      ]
    },
    {
      "cell_type": "markdown",
      "source": [
        "# Nova seção"
      ],
      "metadata": {
        "id": "lwqH7CfAYoWN"
      }
    },
    {
      "cell_type": "code",
      "source": [
        "#Leitura dos arquivos\n",
        "df1 = pd.read_excel(\"SantaMariaMadalena.xlsx\")\n"
      ],
      "metadata": {
        "id": "73S6ZI5LQvIM"
      },
      "execution_count": 39,
      "outputs": []
    },
    {
      "cell_type": "code",
      "source": [
        "df1.head()"
      ],
      "metadata": {
        "colab": {
          "base_uri": "https://localhost:8080/",
          "height": 206
        },
        "id": "wknBmtf2RLeD",
        "outputId": "2d6279a4-2637-421e-de07-9ef3c38b1076"
      },
      "execution_count": 40,
      "outputs": [
        {
          "output_type": "execute_result",
          "data": {
            "text/plain": [
              "                Estação Data Medicao  TEMPERATURA MAXIMA MEDIA, MENSAL(Â°C)  \\\n",
              "0  SANTA MARIA MADALENA   1961-01-31                              26.400000   \n",
              "1  SANTA MARIA MADALENA   1961-02-28                              27.728571   \n",
              "2  SANTA MARIA MADALENA   1961-03-31                              27.409677   \n",
              "3  SANTA MARIA MADALENA   1961-04-30                              26.453333   \n",
              "4  SANTA MARIA MADALENA   1961-05-31                              23.661290   \n",
              "\n",
              "   TEMPERATURA MEDIA COMPENSADA, MENSAL(Â°C)  \\\n",
              "0                                  22.036129   \n",
              "1                                  22.632143   \n",
              "2                                  22.223226   \n",
              "3                                  21.058667   \n",
              "4                                  18.883226   \n",
              "\n",
              "   TEMPERATURA MINIMA MEDIA, MENSAL(Â°C)  \n",
              "0                              19.238710  \n",
              "1                              18.864286  \n",
              "2                              18.261290  \n",
              "3                              16.976667  \n",
              "4                              14.932258  "
            ],
            "text/html": [
              "\n",
              "  <div id=\"df-da037c37-5962-445d-8e44-b63be0249f42\">\n",
              "    <div class=\"colab-df-container\">\n",
              "      <div>\n",
              "<style scoped>\n",
              "    .dataframe tbody tr th:only-of-type {\n",
              "        vertical-align: middle;\n",
              "    }\n",
              "\n",
              "    .dataframe tbody tr th {\n",
              "        vertical-align: top;\n",
              "    }\n",
              "\n",
              "    .dataframe thead th {\n",
              "        text-align: right;\n",
              "    }\n",
              "</style>\n",
              "<table border=\"1\" class=\"dataframe\">\n",
              "  <thead>\n",
              "    <tr style=\"text-align: right;\">\n",
              "      <th></th>\n",
              "      <th>Estação</th>\n",
              "      <th>Data Medicao</th>\n",
              "      <th>TEMPERATURA MAXIMA MEDIA, MENSAL(Â°C)</th>\n",
              "      <th>TEMPERATURA MEDIA COMPENSADA, MENSAL(Â°C)</th>\n",
              "      <th>TEMPERATURA MINIMA MEDIA, MENSAL(Â°C)</th>\n",
              "    </tr>\n",
              "  </thead>\n",
              "  <tbody>\n",
              "    <tr>\n",
              "      <th>0</th>\n",
              "      <td>SANTA MARIA MADALENA</td>\n",
              "      <td>1961-01-31</td>\n",
              "      <td>26.400000</td>\n",
              "      <td>22.036129</td>\n",
              "      <td>19.238710</td>\n",
              "    </tr>\n",
              "    <tr>\n",
              "      <th>1</th>\n",
              "      <td>SANTA MARIA MADALENA</td>\n",
              "      <td>1961-02-28</td>\n",
              "      <td>27.728571</td>\n",
              "      <td>22.632143</td>\n",
              "      <td>18.864286</td>\n",
              "    </tr>\n",
              "    <tr>\n",
              "      <th>2</th>\n",
              "      <td>SANTA MARIA MADALENA</td>\n",
              "      <td>1961-03-31</td>\n",
              "      <td>27.409677</td>\n",
              "      <td>22.223226</td>\n",
              "      <td>18.261290</td>\n",
              "    </tr>\n",
              "    <tr>\n",
              "      <th>3</th>\n",
              "      <td>SANTA MARIA MADALENA</td>\n",
              "      <td>1961-04-30</td>\n",
              "      <td>26.453333</td>\n",
              "      <td>21.058667</td>\n",
              "      <td>16.976667</td>\n",
              "    </tr>\n",
              "    <tr>\n",
              "      <th>4</th>\n",
              "      <td>SANTA MARIA MADALENA</td>\n",
              "      <td>1961-05-31</td>\n",
              "      <td>23.661290</td>\n",
              "      <td>18.883226</td>\n",
              "      <td>14.932258</td>\n",
              "    </tr>\n",
              "  </tbody>\n",
              "</table>\n",
              "</div>\n",
              "      <button class=\"colab-df-convert\" onclick=\"convertToInteractive('df-da037c37-5962-445d-8e44-b63be0249f42')\"\n",
              "              title=\"Convert this dataframe to an interactive table.\"\n",
              "              style=\"display:none;\">\n",
              "        \n",
              "  <svg xmlns=\"http://www.w3.org/2000/svg\" height=\"24px\"viewBox=\"0 0 24 24\"\n",
              "       width=\"24px\">\n",
              "    <path d=\"M0 0h24v24H0V0z\" fill=\"none\"/>\n",
              "    <path d=\"M18.56 5.44l.94 2.06.94-2.06 2.06-.94-2.06-.94-.94-2.06-.94 2.06-2.06.94zm-11 1L8.5 8.5l.94-2.06 2.06-.94-2.06-.94L8.5 2.5l-.94 2.06-2.06.94zm10 10l.94 2.06.94-2.06 2.06-.94-2.06-.94-.94-2.06-.94 2.06-2.06.94z\"/><path d=\"M17.41 7.96l-1.37-1.37c-.4-.4-.92-.59-1.43-.59-.52 0-1.04.2-1.43.59L10.3 9.45l-7.72 7.72c-.78.78-.78 2.05 0 2.83L4 21.41c.39.39.9.59 1.41.59.51 0 1.02-.2 1.41-.59l7.78-7.78 2.81-2.81c.8-.78.8-2.07 0-2.86zM5.41 20L4 18.59l7.72-7.72 1.47 1.35L5.41 20z\"/>\n",
              "  </svg>\n",
              "      </button>\n",
              "      \n",
              "  <style>\n",
              "    .colab-df-container {\n",
              "      display:flex;\n",
              "      flex-wrap:wrap;\n",
              "      gap: 12px;\n",
              "    }\n",
              "\n",
              "    .colab-df-convert {\n",
              "      background-color: #E8F0FE;\n",
              "      border: none;\n",
              "      border-radius: 50%;\n",
              "      cursor: pointer;\n",
              "      display: none;\n",
              "      fill: #1967D2;\n",
              "      height: 32px;\n",
              "      padding: 0 0 0 0;\n",
              "      width: 32px;\n",
              "    }\n",
              "\n",
              "    .colab-df-convert:hover {\n",
              "      background-color: #E2EBFA;\n",
              "      box-shadow: 0px 1px 2px rgba(60, 64, 67, 0.3), 0px 1px 3px 1px rgba(60, 64, 67, 0.15);\n",
              "      fill: #174EA6;\n",
              "    }\n",
              "\n",
              "    [theme=dark] .colab-df-convert {\n",
              "      background-color: #3B4455;\n",
              "      fill: #D2E3FC;\n",
              "    }\n",
              "\n",
              "    [theme=dark] .colab-df-convert:hover {\n",
              "      background-color: #434B5C;\n",
              "      box-shadow: 0px 1px 3px 1px rgba(0, 0, 0, 0.15);\n",
              "      filter: drop-shadow(0px 1px 2px rgba(0, 0, 0, 0.3));\n",
              "      fill: #FFFFFF;\n",
              "    }\n",
              "  </style>\n",
              "\n",
              "      <script>\n",
              "        const buttonEl =\n",
              "          document.querySelector('#df-da037c37-5962-445d-8e44-b63be0249f42 button.colab-df-convert');\n",
              "        buttonEl.style.display =\n",
              "          google.colab.kernel.accessAllowed ? 'block' : 'none';\n",
              "\n",
              "        async function convertToInteractive(key) {\n",
              "          const element = document.querySelector('#df-da037c37-5962-445d-8e44-b63be0249f42');\n",
              "          const dataTable =\n",
              "            await google.colab.kernel.invokeFunction('convertToInteractive',\n",
              "                                                     [key], {});\n",
              "          if (!dataTable) return;\n",
              "\n",
              "          const docLinkHtml = 'Like what you see? Visit the ' +\n",
              "            '<a target=\"_blank\" href=https://colab.research.google.com/notebooks/data_table.ipynb>data table notebook</a>'\n",
              "            + ' to learn more about interactive tables.';\n",
              "          element.innerHTML = '';\n",
              "          dataTable['output_type'] = 'display_data';\n",
              "          await google.colab.output.renderOutput(dataTable, element);\n",
              "          const docLink = document.createElement('div');\n",
              "          docLink.innerHTML = docLinkHtml;\n",
              "          element.appendChild(docLink);\n",
              "        }\n",
              "      </script>\n",
              "    </div>\n",
              "  </div>\n",
              "  "
            ]
          },
          "metadata": {},
          "execution_count": 40
        }
      ]
    },
    {
      "cell_type": "code",
      "source": [
        "#Verificando o tipo de dado de cada coluna\n",
        "df1.dtypes"
      ],
      "metadata": {
        "colab": {
          "base_uri": "https://localhost:8080/"
        },
        "id": "mn0uqKGYReww",
        "outputId": "b0092ddf-08b2-48ca-e382-14beb0a6cf97"
      },
      "execution_count": 41,
      "outputs": [
        {
          "output_type": "execute_result",
          "data": {
            "text/plain": [
              "Estação                                              object\n",
              "Data Medicao                                 datetime64[ns]\n",
              "TEMPERATURA MAXIMA MEDIA, MENSAL(Â°C)               float64\n",
              "TEMPERATURA MEDIA COMPENSADA, MENSAL(Â°C)           float64\n",
              "TEMPERATURA MINIMA MEDIA, MENSAL(Â°C)               float64\n",
              "dtype: object"
            ]
          },
          "metadata": {},
          "execution_count": 41
        }
      ]
    },
    {
      "cell_type": "code",
      "source": [
        "#Consultando linhas e valores faltantes\n",
        "df1.isnull().sum()\n"
      ],
      "metadata": {
        "colab": {
          "base_uri": "https://localhost:8080/"
        },
        "id": "3pNO9IBMdZ3r",
        "outputId": "8ce7c3a5-14e7-45ae-c753-216872bc3e4e"
      },
      "execution_count": 42,
      "outputs": [
        {
          "output_type": "execute_result",
          "data": {
            "text/plain": [
              "Estação                                      609\n",
              "Data Medicao                                   0\n",
              "TEMPERATURA MAXIMA MEDIA, MENSAL(Â°C)        137\n",
              "TEMPERATURA MEDIA COMPENSADA, MENSAL(Â°C)    536\n",
              "TEMPERATURA MINIMA MEDIA, MENSAL(Â°C)        113\n",
              "dtype: int64"
            ]
          },
          "metadata": {},
          "execution_count": 42
        }
      ]
    },
    {
      "cell_type": "code",
      "source": [
        "from numpy import True_\n",
        "#Removendo linhas que estejam faltantes em todas as colunas\n",
        "df1.dropna(how=\"all\", inplace=True_)"
      ],
      "metadata": {
        "id": "e5E52r1zfQCM"
      },
      "execution_count": 43,
      "outputs": []
    },
    {
      "cell_type": "code",
      "source": [
        "df1[\"Temp. Max. Media\"] = df1[\"TEMPERATURA MAXIMA MEDIA, MENSAL(Â°C)\"]\n",
        "df1[\"Temp. Media. Compensada\"] = df1[\"TEMPERATURA MEDIA COMPENSADA, MENSAL(Â°C)\"]\n",
        "df1[\"Temp. Min. Media\"] = df1[\"TEMPERATURA MINIMA MEDIA, MENSAL(Â°C)\"]"
      ],
      "metadata": {
        "id": "yYAqj5Difxgu"
      },
      "execution_count": 44,
      "outputs": []
    },
    {
      "cell_type": "code",
      "source": [
        "df1.dtypes"
      ],
      "metadata": {
        "id": "SUMFeuqjh5uv",
        "colab": {
          "base_uri": "https://localhost:8080/"
        },
        "outputId": "1f88c95b-93f6-42a2-bd57-3f0b049caf05"
      },
      "execution_count": 45,
      "outputs": [
        {
          "output_type": "execute_result",
          "data": {
            "text/plain": [
              "Estação                                              object\n",
              "Data Medicao                                 datetime64[ns]\n",
              "TEMPERATURA MAXIMA MEDIA, MENSAL(Â°C)               float64\n",
              "TEMPERATURA MEDIA COMPENSADA, MENSAL(Â°C)           float64\n",
              "TEMPERATURA MINIMA MEDIA, MENSAL(Â°C)               float64\n",
              "Temp. Max. Media                                    float64\n",
              "Temp. Media. Compensada                             float64\n",
              "Temp. Min. Media                                    float64\n",
              "dtype: object"
            ]
          },
          "metadata": {},
          "execution_count": 45
        }
      ]
    },
    {
      "cell_type": "code",
      "source": [
        "TMaxMAnual = df1.groupby(df1[\"Data Medicao\"].dt.year) [\"TEMPERATURA MAXIMA MEDIA, MENSAL(Â°C)\"].mean()"
      ],
      "metadata": {
        "id": "vv7I8XwyrJZH"
      },
      "execution_count": 46,
      "outputs": []
    },
    {
      "cell_type": "code",
      "source": [
        "print(TMaxMAnual)"
      ],
      "metadata": {
        "colab": {
          "base_uri": "https://localhost:8080/"
        },
        "id": "Kj3p-rZj25IE",
        "outputId": "271fde72-c6dc-4b17-8843-2462723f8b9a"
      },
      "execution_count": 47,
      "outputs": [
        {
          "output_type": "stream",
          "name": "stdout",
          "text": [
            "Data Medicao\n",
            "1961    25.922533\n",
            "1962    24.813585\n",
            "1963    26.861756\n",
            "1964    24.012864\n",
            "1965    25.895965\n",
            "          ...    \n",
            "2018    25.878790\n",
            "2019    26.909471\n",
            "2020    28.310011\n",
            "2021    25.231586\n",
            "2022    27.098618\n",
            "Name: TEMPERATURA MAXIMA MEDIA, MENSAL(Â°C), Length: 62, dtype: float64\n"
          ]
        }
      ]
    },
    {
      "cell_type": "code",
      "source": [
        "TMedMAnual = df1.groupby(df1[\"Data Medicao\"].dt.year) [\"TEMPERATURA MEDIA COMPENSADA, MENSAL(Â°C)\"].mean()"
      ],
      "metadata": {
        "id": "FupCSdDm4qGp"
      },
      "execution_count": 48,
      "outputs": []
    },
    {
      "cell_type": "code",
      "source": [
        "print(TMedMAnual)"
      ],
      "metadata": {
        "colab": {
          "base_uri": "https://localhost:8080/"
        },
        "outputId": "b2e178f6-babb-48d7-b143-ba68ea3d8281",
        "id": "04U8SN9a4-FN"
      },
      "execution_count": 49,
      "outputs": [
        {
          "output_type": "stream",
          "name": "stdout",
          "text": [
            "Data Medicao\n",
            "1961    20.468732\n",
            "1962    19.844269\n",
            "1963    20.656132\n",
            "1964    19.212206\n",
            "1965    20.371657\n",
            "          ...    \n",
            "2018          NaN\n",
            "2019          NaN\n",
            "2020          NaN\n",
            "2021          NaN\n",
            "2022          NaN\n",
            "Name: TEMPERATURA MEDIA COMPENSADA, MENSAL(Â°C), Length: 62, dtype: float64\n"
          ]
        }
      ]
    },
    {
      "cell_type": "code",
      "source": [
        "TMinMAnual = df1.groupby(df1[\"Data Medicao\"].dt.year) [\"TEMPERATURA MINIMA MEDIA, MENSAL(Â°C)\"].mean()"
      ],
      "metadata": {
        "id": "PPUKnGT06AyL"
      },
      "execution_count": 50,
      "outputs": []
    },
    {
      "cell_type": "code",
      "source": [
        "print(TMinMAnual)"
      ],
      "metadata": {
        "colab": {
          "base_uri": "https://localhost:8080/"
        },
        "id": "2W9Pr4LN6LVz",
        "outputId": "20541933-4919-43ed-c6d0-48f4802b44f2"
      },
      "execution_count": 51,
      "outputs": [
        {
          "output_type": "stream",
          "name": "stdout",
          "text": [
            "Data Medicao\n",
            "1961    16.368269\n",
            "1962    16.033412\n",
            "1963    15.988974\n",
            "1964    15.605089\n",
            "1965    16.335006\n",
            "          ...    \n",
            "2018    15.518488\n",
            "2019    15.548967\n",
            "2020    19.125973\n",
            "2021    15.548219\n",
            "2022    17.098618\n",
            "Name: TEMPERATURA MINIMA MEDIA, MENSAL(Â°C), Length: 62, dtype: float64\n"
          ]
        }
      ]
    },
    {
      "cell_type": "code",
      "source": [
        "df1.dropna(how=\"all\", inplace=True)"
      ],
      "metadata": {
        "id": "RZ6bU0yq6pVx"
      },
      "execution_count": 52,
      "outputs": []
    },
    {
      "cell_type": "code",
      "source": [
        "df1.sample(5)"
      ],
      "metadata": {
        "colab": {
          "base_uri": "https://localhost:8080/",
          "height": 285
        },
        "id": "X2nVlrdtBuK7",
        "outputId": "b4bca024-23e4-4c15-9b75-370b2f6e6d8c"
      },
      "execution_count": 53,
      "outputs": [
        {
          "output_type": "execute_result",
          "data": {
            "text/plain": [
              "                  Estação Data Medicao  TEMPERATURA MAXIMA MEDIA, MENSAL(Â°C)  \\\n",
              "439                   NaN   1997-08-31                              24.487097   \n",
              "414                   NaN   1995-07-31                              24.270968   \n",
              "642                   NaN   2014-07-31                              21.961290   \n",
              "102  SANTA MARIA MADALENA   1969-07-31                              22.229032   \n",
              "447                   NaN   1998-04-30                              27.040000   \n",
              "\n",
              "     TEMPERATURA MEDIA COMPENSADA, MENSAL(Â°C)  \\\n",
              "439                                        NaN   \n",
              "414                                        NaN   \n",
              "642                                        NaN   \n",
              "102                                  16.837419   \n",
              "447                                        NaN   \n",
              "\n",
              "     TEMPERATURA MINIMA MEDIA, MENSAL(Â°C)  Temp. Max. Media  \\\n",
              "439                              12.248387         24.487097   \n",
              "414                              13.012903         24.270968   \n",
              "642                              12.467742         21.961290   \n",
              "102                              13.048387         22.229032   \n",
              "447                              18.320000         27.040000   \n",
              "\n",
              "     Temp. Media. Compensada  Temp. Min. Media  \n",
              "439                      NaN         12.248387  \n",
              "414                      NaN         13.012903  \n",
              "642                      NaN         12.467742  \n",
              "102                16.837419         13.048387  \n",
              "447                      NaN         18.320000  "
            ],
            "text/html": [
              "\n",
              "  <div id=\"df-c60e557d-543c-4f87-8d90-8faf1439a849\">\n",
              "    <div class=\"colab-df-container\">\n",
              "      <div>\n",
              "<style scoped>\n",
              "    .dataframe tbody tr th:only-of-type {\n",
              "        vertical-align: middle;\n",
              "    }\n",
              "\n",
              "    .dataframe tbody tr th {\n",
              "        vertical-align: top;\n",
              "    }\n",
              "\n",
              "    .dataframe thead th {\n",
              "        text-align: right;\n",
              "    }\n",
              "</style>\n",
              "<table border=\"1\" class=\"dataframe\">\n",
              "  <thead>\n",
              "    <tr style=\"text-align: right;\">\n",
              "      <th></th>\n",
              "      <th>Estação</th>\n",
              "      <th>Data Medicao</th>\n",
              "      <th>TEMPERATURA MAXIMA MEDIA, MENSAL(Â°C)</th>\n",
              "      <th>TEMPERATURA MEDIA COMPENSADA, MENSAL(Â°C)</th>\n",
              "      <th>TEMPERATURA MINIMA MEDIA, MENSAL(Â°C)</th>\n",
              "      <th>Temp. Max. Media</th>\n",
              "      <th>Temp. Media. Compensada</th>\n",
              "      <th>Temp. Min. Media</th>\n",
              "    </tr>\n",
              "  </thead>\n",
              "  <tbody>\n",
              "    <tr>\n",
              "      <th>439</th>\n",
              "      <td>NaN</td>\n",
              "      <td>1997-08-31</td>\n",
              "      <td>24.487097</td>\n",
              "      <td>NaN</td>\n",
              "      <td>12.248387</td>\n",
              "      <td>24.487097</td>\n",
              "      <td>NaN</td>\n",
              "      <td>12.248387</td>\n",
              "    </tr>\n",
              "    <tr>\n",
              "      <th>414</th>\n",
              "      <td>NaN</td>\n",
              "      <td>1995-07-31</td>\n",
              "      <td>24.270968</td>\n",
              "      <td>NaN</td>\n",
              "      <td>13.012903</td>\n",
              "      <td>24.270968</td>\n",
              "      <td>NaN</td>\n",
              "      <td>13.012903</td>\n",
              "    </tr>\n",
              "    <tr>\n",
              "      <th>642</th>\n",
              "      <td>NaN</td>\n",
              "      <td>2014-07-31</td>\n",
              "      <td>21.961290</td>\n",
              "      <td>NaN</td>\n",
              "      <td>12.467742</td>\n",
              "      <td>21.961290</td>\n",
              "      <td>NaN</td>\n",
              "      <td>12.467742</td>\n",
              "    </tr>\n",
              "    <tr>\n",
              "      <th>102</th>\n",
              "      <td>SANTA MARIA MADALENA</td>\n",
              "      <td>1969-07-31</td>\n",
              "      <td>22.229032</td>\n",
              "      <td>16.837419</td>\n",
              "      <td>13.048387</td>\n",
              "      <td>22.229032</td>\n",
              "      <td>16.837419</td>\n",
              "      <td>13.048387</td>\n",
              "    </tr>\n",
              "    <tr>\n",
              "      <th>447</th>\n",
              "      <td>NaN</td>\n",
              "      <td>1998-04-30</td>\n",
              "      <td>27.040000</td>\n",
              "      <td>NaN</td>\n",
              "      <td>18.320000</td>\n",
              "      <td>27.040000</td>\n",
              "      <td>NaN</td>\n",
              "      <td>18.320000</td>\n",
              "    </tr>\n",
              "  </tbody>\n",
              "</table>\n",
              "</div>\n",
              "      <button class=\"colab-df-convert\" onclick=\"convertToInteractive('df-c60e557d-543c-4f87-8d90-8faf1439a849')\"\n",
              "              title=\"Convert this dataframe to an interactive table.\"\n",
              "              style=\"display:none;\">\n",
              "        \n",
              "  <svg xmlns=\"http://www.w3.org/2000/svg\" height=\"24px\"viewBox=\"0 0 24 24\"\n",
              "       width=\"24px\">\n",
              "    <path d=\"M0 0h24v24H0V0z\" fill=\"none\"/>\n",
              "    <path d=\"M18.56 5.44l.94 2.06.94-2.06 2.06-.94-2.06-.94-.94-2.06-.94 2.06-2.06.94zm-11 1L8.5 8.5l.94-2.06 2.06-.94-2.06-.94L8.5 2.5l-.94 2.06-2.06.94zm10 10l.94 2.06.94-2.06 2.06-.94-2.06-.94-.94-2.06-.94 2.06-2.06.94z\"/><path d=\"M17.41 7.96l-1.37-1.37c-.4-.4-.92-.59-1.43-.59-.52 0-1.04.2-1.43.59L10.3 9.45l-7.72 7.72c-.78.78-.78 2.05 0 2.83L4 21.41c.39.39.9.59 1.41.59.51 0 1.02-.2 1.41-.59l7.78-7.78 2.81-2.81c.8-.78.8-2.07 0-2.86zM5.41 20L4 18.59l7.72-7.72 1.47 1.35L5.41 20z\"/>\n",
              "  </svg>\n",
              "      </button>\n",
              "      \n",
              "  <style>\n",
              "    .colab-df-container {\n",
              "      display:flex;\n",
              "      flex-wrap:wrap;\n",
              "      gap: 12px;\n",
              "    }\n",
              "\n",
              "    .colab-df-convert {\n",
              "      background-color: #E8F0FE;\n",
              "      border: none;\n",
              "      border-radius: 50%;\n",
              "      cursor: pointer;\n",
              "      display: none;\n",
              "      fill: #1967D2;\n",
              "      height: 32px;\n",
              "      padding: 0 0 0 0;\n",
              "      width: 32px;\n",
              "    }\n",
              "\n",
              "    .colab-df-convert:hover {\n",
              "      background-color: #E2EBFA;\n",
              "      box-shadow: 0px 1px 2px rgba(60, 64, 67, 0.3), 0px 1px 3px 1px rgba(60, 64, 67, 0.15);\n",
              "      fill: #174EA6;\n",
              "    }\n",
              "\n",
              "    [theme=dark] .colab-df-convert {\n",
              "      background-color: #3B4455;\n",
              "      fill: #D2E3FC;\n",
              "    }\n",
              "\n",
              "    [theme=dark] .colab-df-convert:hover {\n",
              "      background-color: #434B5C;\n",
              "      box-shadow: 0px 1px 3px 1px rgba(0, 0, 0, 0.15);\n",
              "      filter: drop-shadow(0px 1px 2px rgba(0, 0, 0, 0.3));\n",
              "      fill: #FFFFFF;\n",
              "    }\n",
              "  </style>\n",
              "\n",
              "      <script>\n",
              "        const buttonEl =\n",
              "          document.querySelector('#df-c60e557d-543c-4f87-8d90-8faf1439a849 button.colab-df-convert');\n",
              "        buttonEl.style.display =\n",
              "          google.colab.kernel.accessAllowed ? 'block' : 'none';\n",
              "\n",
              "        async function convertToInteractive(key) {\n",
              "          const element = document.querySelector('#df-c60e557d-543c-4f87-8d90-8faf1439a849');\n",
              "          const dataTable =\n",
              "            await google.colab.kernel.invokeFunction('convertToInteractive',\n",
              "                                                     [key], {});\n",
              "          if (!dataTable) return;\n",
              "\n",
              "          const docLinkHtml = 'Like what you see? Visit the ' +\n",
              "            '<a target=\"_blank\" href=https://colab.research.google.com/notebooks/data_table.ipynb>data table notebook</a>'\n",
              "            + ' to learn more about interactive tables.';\n",
              "          element.innerHTML = '';\n",
              "          dataTable['output_type'] = 'display_data';\n",
              "          await google.colab.output.renderOutput(dataTable, element);\n",
              "          const docLink = document.createElement('div');\n",
              "          docLink.innerHTML = docLinkHtml;\n",
              "          element.appendChild(docLink);\n",
              "        }\n",
              "      </script>\n",
              "    </div>\n",
              "  </div>\n",
              "  "
            ]
          },
          "metadata": {},
          "execution_count": 53
        }
      ]
    },
    {
      "cell_type": "code",
      "source": [
        "Ano = df1[\"Ano\"] = df1[\"Data Medicao\"].dt.year"
      ],
      "metadata": {
        "id": "xEcTN-VFCdXU"
      },
      "execution_count": 54,
      "outputs": []
    },
    {
      "cell_type": "code",
      "source": [
        "df1.sample(5)"
      ],
      "metadata": {
        "colab": {
          "base_uri": "https://localhost:8080/",
          "height": 285
        },
        "id": "32Tu-dMbCs9b",
        "outputId": "b32c3545-2ce1-41d6-bfcc-b3b2c9794a6f"
      },
      "execution_count": 55,
      "outputs": [
        {
          "output_type": "execute_result",
          "data": {
            "text/plain": [
              "                  Estação Data Medicao  TEMPERATURA MAXIMA MEDIA, MENSAL(Â°C)  \\\n",
              "107  SANTA MARIA MADALENA   1969-12-31                              25.593548   \n",
              "412                   NaN   1995-05-31                              23.741935   \n",
              "725                   NaN   2021-06-30                                    NaN   \n",
              "539                   NaN   2005-12-31                              26.493548   \n",
              "651                   NaN   2015-04-30                              26.486667   \n",
              "\n",
              "     TEMPERATURA MEDIA COMPENSADA, MENSAL(Â°C)  \\\n",
              "107                                  20.401935   \n",
              "412                                        NaN   \n",
              "725                                        NaN   \n",
              "539                                        NaN   \n",
              "651                                        NaN   \n",
              "\n",
              "     TEMPERATURA MINIMA MEDIA, MENSAL(Â°C)  Temp. Max. Media  \\\n",
              "107                              16.529032         25.593548   \n",
              "412                              15.206452         23.741935   \n",
              "725                                    NaN               NaN   \n",
              "539                              17.351613         26.493548   \n",
              "651                              15.900000         26.486667   \n",
              "\n",
              "     Temp. Media. Compensada  Temp. Min. Media   Ano  \n",
              "107                20.401935         16.529032  1969  \n",
              "412                      NaN         15.206452  1995  \n",
              "725                      NaN               NaN  2021  \n",
              "539                      NaN         17.351613  2005  \n",
              "651                      NaN         15.900000  2015  "
            ],
            "text/html": [
              "\n",
              "  <div id=\"df-1fb9e2c8-5598-4995-9794-2b95614a91f4\">\n",
              "    <div class=\"colab-df-container\">\n",
              "      <div>\n",
              "<style scoped>\n",
              "    .dataframe tbody tr th:only-of-type {\n",
              "        vertical-align: middle;\n",
              "    }\n",
              "\n",
              "    .dataframe tbody tr th {\n",
              "        vertical-align: top;\n",
              "    }\n",
              "\n",
              "    .dataframe thead th {\n",
              "        text-align: right;\n",
              "    }\n",
              "</style>\n",
              "<table border=\"1\" class=\"dataframe\">\n",
              "  <thead>\n",
              "    <tr style=\"text-align: right;\">\n",
              "      <th></th>\n",
              "      <th>Estação</th>\n",
              "      <th>Data Medicao</th>\n",
              "      <th>TEMPERATURA MAXIMA MEDIA, MENSAL(Â°C)</th>\n",
              "      <th>TEMPERATURA MEDIA COMPENSADA, MENSAL(Â°C)</th>\n",
              "      <th>TEMPERATURA MINIMA MEDIA, MENSAL(Â°C)</th>\n",
              "      <th>Temp. Max. Media</th>\n",
              "      <th>Temp. Media. Compensada</th>\n",
              "      <th>Temp. Min. Media</th>\n",
              "      <th>Ano</th>\n",
              "    </tr>\n",
              "  </thead>\n",
              "  <tbody>\n",
              "    <tr>\n",
              "      <th>107</th>\n",
              "      <td>SANTA MARIA MADALENA</td>\n",
              "      <td>1969-12-31</td>\n",
              "      <td>25.593548</td>\n",
              "      <td>20.401935</td>\n",
              "      <td>16.529032</td>\n",
              "      <td>25.593548</td>\n",
              "      <td>20.401935</td>\n",
              "      <td>16.529032</td>\n",
              "      <td>1969</td>\n",
              "    </tr>\n",
              "    <tr>\n",
              "      <th>412</th>\n",
              "      <td>NaN</td>\n",
              "      <td>1995-05-31</td>\n",
              "      <td>23.741935</td>\n",
              "      <td>NaN</td>\n",
              "      <td>15.206452</td>\n",
              "      <td>23.741935</td>\n",
              "      <td>NaN</td>\n",
              "      <td>15.206452</td>\n",
              "      <td>1995</td>\n",
              "    </tr>\n",
              "    <tr>\n",
              "      <th>725</th>\n",
              "      <td>NaN</td>\n",
              "      <td>2021-06-30</td>\n",
              "      <td>NaN</td>\n",
              "      <td>NaN</td>\n",
              "      <td>NaN</td>\n",
              "      <td>NaN</td>\n",
              "      <td>NaN</td>\n",
              "      <td>NaN</td>\n",
              "      <td>2021</td>\n",
              "    </tr>\n",
              "    <tr>\n",
              "      <th>539</th>\n",
              "      <td>NaN</td>\n",
              "      <td>2005-12-31</td>\n",
              "      <td>26.493548</td>\n",
              "      <td>NaN</td>\n",
              "      <td>17.351613</td>\n",
              "      <td>26.493548</td>\n",
              "      <td>NaN</td>\n",
              "      <td>17.351613</td>\n",
              "      <td>2005</td>\n",
              "    </tr>\n",
              "    <tr>\n",
              "      <th>651</th>\n",
              "      <td>NaN</td>\n",
              "      <td>2015-04-30</td>\n",
              "      <td>26.486667</td>\n",
              "      <td>NaN</td>\n",
              "      <td>15.900000</td>\n",
              "      <td>26.486667</td>\n",
              "      <td>NaN</td>\n",
              "      <td>15.900000</td>\n",
              "      <td>2015</td>\n",
              "    </tr>\n",
              "  </tbody>\n",
              "</table>\n",
              "</div>\n",
              "      <button class=\"colab-df-convert\" onclick=\"convertToInteractive('df-1fb9e2c8-5598-4995-9794-2b95614a91f4')\"\n",
              "              title=\"Convert this dataframe to an interactive table.\"\n",
              "              style=\"display:none;\">\n",
              "        \n",
              "  <svg xmlns=\"http://www.w3.org/2000/svg\" height=\"24px\"viewBox=\"0 0 24 24\"\n",
              "       width=\"24px\">\n",
              "    <path d=\"M0 0h24v24H0V0z\" fill=\"none\"/>\n",
              "    <path d=\"M18.56 5.44l.94 2.06.94-2.06 2.06-.94-2.06-.94-.94-2.06-.94 2.06-2.06.94zm-11 1L8.5 8.5l.94-2.06 2.06-.94-2.06-.94L8.5 2.5l-.94 2.06-2.06.94zm10 10l.94 2.06.94-2.06 2.06-.94-2.06-.94-.94-2.06-.94 2.06-2.06.94z\"/><path d=\"M17.41 7.96l-1.37-1.37c-.4-.4-.92-.59-1.43-.59-.52 0-1.04.2-1.43.59L10.3 9.45l-7.72 7.72c-.78.78-.78 2.05 0 2.83L4 21.41c.39.39.9.59 1.41.59.51 0 1.02-.2 1.41-.59l7.78-7.78 2.81-2.81c.8-.78.8-2.07 0-2.86zM5.41 20L4 18.59l7.72-7.72 1.47 1.35L5.41 20z\"/>\n",
              "  </svg>\n",
              "      </button>\n",
              "      \n",
              "  <style>\n",
              "    .colab-df-container {\n",
              "      display:flex;\n",
              "      flex-wrap:wrap;\n",
              "      gap: 12px;\n",
              "    }\n",
              "\n",
              "    .colab-df-convert {\n",
              "      background-color: #E8F0FE;\n",
              "      border: none;\n",
              "      border-radius: 50%;\n",
              "      cursor: pointer;\n",
              "      display: none;\n",
              "      fill: #1967D2;\n",
              "      height: 32px;\n",
              "      padding: 0 0 0 0;\n",
              "      width: 32px;\n",
              "    }\n",
              "\n",
              "    .colab-df-convert:hover {\n",
              "      background-color: #E2EBFA;\n",
              "      box-shadow: 0px 1px 2px rgba(60, 64, 67, 0.3), 0px 1px 3px 1px rgba(60, 64, 67, 0.15);\n",
              "      fill: #174EA6;\n",
              "    }\n",
              "\n",
              "    [theme=dark] .colab-df-convert {\n",
              "      background-color: #3B4455;\n",
              "      fill: #D2E3FC;\n",
              "    }\n",
              "\n",
              "    [theme=dark] .colab-df-convert:hover {\n",
              "      background-color: #434B5C;\n",
              "      box-shadow: 0px 1px 3px 1px rgba(0, 0, 0, 0.15);\n",
              "      filter: drop-shadow(0px 1px 2px rgba(0, 0, 0, 0.3));\n",
              "      fill: #FFFFFF;\n",
              "    }\n",
              "  </style>\n",
              "\n",
              "      <script>\n",
              "        const buttonEl =\n",
              "          document.querySelector('#df-1fb9e2c8-5598-4995-9794-2b95614a91f4 button.colab-df-convert');\n",
              "        buttonEl.style.display =\n",
              "          google.colab.kernel.accessAllowed ? 'block' : 'none';\n",
              "\n",
              "        async function convertToInteractive(key) {\n",
              "          const element = document.querySelector('#df-1fb9e2c8-5598-4995-9794-2b95614a91f4');\n",
              "          const dataTable =\n",
              "            await google.colab.kernel.invokeFunction('convertToInteractive',\n",
              "                                                     [key], {});\n",
              "          if (!dataTable) return;\n",
              "\n",
              "          const docLinkHtml = 'Like what you see? Visit the ' +\n",
              "            '<a target=\"_blank\" href=https://colab.research.google.com/notebooks/data_table.ipynb>data table notebook</a>'\n",
              "            + ' to learn more about interactive tables.';\n",
              "          element.innerHTML = '';\n",
              "          dataTable['output_type'] = 'display_data';\n",
              "          await google.colab.output.renderOutput(dataTable, element);\n",
              "          const docLink = document.createElement('div');\n",
              "          docLink.innerHTML = docLinkHtml;\n",
              "          element.appendChild(docLink);\n",
              "        }\n",
              "      </script>\n",
              "    </div>\n",
              "  </div>\n",
              "  "
            ]
          },
          "metadata": {},
          "execution_count": 55
        }
      ]
    },
    {
      "cell_type": "code",
      "source": [
        "print(Ano)"
      ],
      "metadata": {
        "colab": {
          "base_uri": "https://localhost:8080/"
        },
        "id": "cVN1F47M9IUF",
        "outputId": "e2a14222-8476-4c25-e07a-2267d752a6ce"
      },
      "execution_count": 56,
      "outputs": [
        {
          "output_type": "stream",
          "name": "stdout",
          "text": [
            "0      1961\n",
            "1      1961\n",
            "2      1961\n",
            "3      1961\n",
            "4      1961\n",
            "       ... \n",
            "734    2022\n",
            "735    2022\n",
            "736    2022\n",
            "737    2022\n",
            "738    2022\n",
            "Name: Data Medicao, Length: 739, dtype: int64\n"
          ]
        }
      ]
    },
    {
      "cell_type": "code",
      "source": [
        "print(TMinMAnual)"
      ],
      "metadata": {
        "colab": {
          "base_uri": "https://localhost:8080/"
        },
        "id": "iXi5plT0P-l8",
        "outputId": "2e522692-f71a-41d0-aceb-a685c56a408f"
      },
      "execution_count": 57,
      "outputs": [
        {
          "output_type": "stream",
          "name": "stdout",
          "text": [
            "Data Medicao\n",
            "1961    16.368269\n",
            "1962    16.033412\n",
            "1963    15.988974\n",
            "1964    15.605089\n",
            "1965    16.335006\n",
            "          ...    \n",
            "2018    15.518488\n",
            "2019    15.548967\n",
            "2020    19.125973\n",
            "2021    15.548219\n",
            "2022    17.098618\n",
            "Name: TEMPERATURA MINIMA MEDIA, MENSAL(Â°C), Length: 62, dtype: float64\n"
          ]
        }
      ]
    },
    {
      "cell_type": "code",
      "source": [
        "df_TMinMAnual = pd.DataFrame(TMinMAnual)\n"
      ],
      "metadata": {
        "id": "w117k9bIBHaL"
      },
      "execution_count": 58,
      "outputs": []
    },
    {
      "cell_type": "code",
      "source": [
        "df_TMedMAnual = pd.DataFrame(TMedMAnual)\n",
        "df_TMaxMAnual = pd.DataFrame(TMaxMAnual)"
      ],
      "metadata": {
        "id": "UEn0BhvbarQq"
      },
      "execution_count": 59,
      "outputs": []
    },
    {
      "cell_type": "code",
      "source": [
        "df_TMinMAnual = df_TMinMAnual.reset_index(level=0)\n",
        "df_TMedManual = df_TMedMAnual.reset_index(level=0)\n",
        "df_TMaxManual = df_TMaxMAnual.reset_index(level=0)"
      ],
      "metadata": {
        "id": "em4aPHCELRS3"
      },
      "execution_count": 60,
      "outputs": []
    },
    {
      "cell_type": "code",
      "source": [
        "x = df_TMinMAnual['Data Medicao']\n",
        "y = df_TMinMAnual['TEMPERATURA MINIMA MEDIA, MENSAL(Â°C)']\n",
        "y1 = df_TMedMAnual['TEMPERATURA MEDIA COMPENSADA, MENSAL(Â°C)']\n",
        "y2 = df_TMaxMAnual['TEMPERATURA MAXIMA MEDIA, MENSAL(Â°C)']"
      ],
      "metadata": {
        "id": "FC6b3i3M_Cx1"
      },
      "execution_count": 61,
      "outputs": []
    },
    {
      "cell_type": "code",
      "source": [
        "df_TMedMAnual['TEMPERATURA MEDIA COMPENSADA, MENSAL(Â°C)']"
      ],
      "metadata": {
        "colab": {
          "base_uri": "https://localhost:8080/"
        },
        "id": "6eG4A2Z2O6os",
        "outputId": "92a0b9d0-95de-4d99-ab2a-a1bd607af7fb"
      },
      "execution_count": 62,
      "outputs": [
        {
          "output_type": "execute_result",
          "data": {
            "text/plain": [
              "Data Medicao\n",
              "1961    20.468732\n",
              "1962    19.844269\n",
              "1963    20.656132\n",
              "1964    19.212206\n",
              "1965    20.371657\n",
              "          ...    \n",
              "2018          NaN\n",
              "2019          NaN\n",
              "2020          NaN\n",
              "2021          NaN\n",
              "2022          NaN\n",
              "Name: TEMPERATURA MEDIA COMPENSADA, MENSAL(Â°C), Length: 62, dtype: float64"
            ]
          },
          "metadata": {},
          "execution_count": 62
        }
      ]
    },
    {
      "cell_type": "code",
      "source": [
        "def plota_linha_1(x, y):plt.plot(x, y)"
      ],
      "metadata": {
        "id": "yCEfYb_nD4fY"
      },
      "execution_count": 63,
      "outputs": []
    },
    {
      "cell_type": "code",
      "source": [
        "plt.plot(x, y, color = 'r', label= \"Temp. Mín. Anual\")\n",
        "plt.plot(x, y1, color = 'g', label = \"Temp. Média Anual\")\n",
        "plt.plot(x, y2, color = 'b', label = \"Temp. Máx. Anual\")\n",
        "\n",
        "plt.title(\"Histórico de Temperatura do Município\\n de Santa Maria Madalena\")\n",
        "plt.xlabel(\"Ano\")\n",
        "plt.ylabel(\"Temperatura °C\");\n",
        "plt.legend(loc=\"right\")"
      ],
      "metadata": {
        "colab": {
          "base_uri": "https://localhost:8080/",
          "height": 327
        },
        "id": "aMGueuCyiJl8",
        "outputId": "e82eac0e-08fb-436b-c70d-3900d13308fa"
      },
      "execution_count": 64,
      "outputs": [
        {
          "output_type": "execute_result",
          "data": {
            "text/plain": [
              "<matplotlib.legend.Legend at 0x7f2f15a9b490>"
            ]
          },
          "metadata": {},
          "execution_count": 64
        },
        {
          "output_type": "display_data",
          "data": {
            "text/plain": [
              "<Figure size 432x288 with 1 Axes>"
            ],
            "image/png": "[encoded data removed]"
          },
          "metadata": {
            "needs_background": "light"
          }
        }
      ]
    }
  ]
}